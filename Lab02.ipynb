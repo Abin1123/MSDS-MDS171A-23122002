{
 "cells": [
  {
   "cell_type": "markdown",
   "metadata": {},
   "source": [
    "The Name Collector's Quest\n",
    "\n",
    "In a quaint little village named Harmonyville, there lived a curious individual named Alex. Alex was known for his passion for collecting names. His dream was to create an extensive list of unique names that would reflect the diversity and camaraderie of the village. Alex used to sit in the village junction; as the villagers passed, Alex eagerly approached them and asked for their names. With each encounter, they diligently recorded the names in his notepad.\n",
    "\n",
    "To keep things organized, You were one among the villagers and have decided to create a program to assist them in this endeavour. You asked Alex to begin by defining a list on his laptop instead of his notepad, and you started writing functions to add names.\n",
    "\n",
    "The function that you have defined should do\n",
    "\n",
    "Whenever a new name is encountered, record it.\n",
    "If an existing name comes, the program says the name exists.\n",
    "Alex makes a lot of mistakes; your program also has to do the necessary validations.\n",
    "The function quits when q is entered as a name and prints all the names in the list, and then he has to call the function.\n",
    "As a data analyst of the village, analyse the names in the list.\n",
    "Days turned into weeks and weeks into months. Alex's name collection grew beyond their wildest dreams. The villagers admired their dedication and the beautifully organized list they had created. Alex's program became a legend in Harmonyville, passed down from generation to generation.\n",
    "\n",
    "And so, in the heart of the village, Alex's legacy lived on - a story of names, community, and the power of coding to bring dreams to life.\n",
    "\n",
    "Note:\n",
    "File name ‘Lab 02.ipynb’\n",
    "Update README.md file with the question and link to the file.\n",
    "Note the mistakes Alex will make, find solutions for them, and implement them in the program.\n",
    "Explain the analysis that you are planning to do and the results.\n",
    "Concepts to be used: List, Pre Defined Functions, User Defined Functions  "
   ]
  },
  {
   "cell_type": "code",
   "execution_count": 35,
   "metadata": {},
   "outputs": [],
   "source": [
    "array=[] #creating a empty array to store the names\n",
    "def insert(array):\n",
    "    f=0\n",
    "    name=input(\"Enter the name:\") # Entering the name\n",
    "    \n",
    "    if name=='q': #if we type q then the program will stop taking input \n",
    "        print(\"Enter a valid name:\")\n",
    "    else:\n",
    "        name=name.title() #1st word will be capitalized\n",
    "        tname=name\n",
    "        tname=tname.replace(\" \",\"\") # replace space with empty spaces\n",
    "        tf=tname.isalpha() # checks if the given name is alphabet or not\n",
    "        if name in array:\n",
    "            print(\"The name is already exist\") #if there it will stop and print the following line\n",
    "            f=1\n",
    "        if tf==True and f==0:\n",
    "            array.append(name)\n",
    "            print('Name added successfully') #if name is unique then it will add to the array\n",
    "        else:\n",
    "            print(\"Name not saved\")\n",
    "    print(array)  "
   ]
  },
  {
   "cell_type": "code",
   "execution_count": 36,
   "metadata": {},
   "outputs": [
    {
     "name": "stdout",
     "output_type": "stream",
     "text": [
      "Name not saved\n",
      "[]\n"
     ]
    },
    {
     "ename": "ValueError",
     "evalue": "max() arg is an empty sequence",
     "output_type": "error",
     "traceback": [
      "\u001b[1;31m---------------------------------------------------------------------------\u001b[0m",
      "\u001b[1;31mValueError\u001b[0m                                Traceback (most recent call last)",
      "Cell \u001b[1;32mIn[36], line 2\u001b[0m\n\u001b[0;32m      1\u001b[0m insert(array) \u001b[39m#Output Function\u001b[39;00m\n\u001b[1;32m----> 2\u001b[0m largest\u001b[39m=\u001b[39m\u001b[39mmax\u001b[39;49m(array,key\u001b[39m=\u001b[39;49m\u001b[39mlen\u001b[39;49m) \u001b[39m#Maximum number of Elements in array\u001b[39;00m\n\u001b[0;32m      3\u001b[0m smallest\u001b[39m=\u001b[39m\u001b[39mmin\u001b[39m(array,key\u001b[39m=\u001b[39m\u001b[39mlen\u001b[39m) \u001b[39m#Minimum number of Elements in array\u001b[39;00m\n\u001b[0;32m      4\u001b[0m \u001b[39mprint\u001b[39m(\u001b[39m\"\u001b[39m\u001b[39mName which is largest:\u001b[39m\u001b[39m\"\u001b[39m,largest)\n",
      "\u001b[1;31mValueError\u001b[0m: max() arg is an empty sequence"
     ]
    }
   ],
   "source": [
    "insert(array) #Output Function\n",
    "largest=max(array,key=len) #Maximum number of Elements in array\n",
    "smallest=min(array,key=len) #Minimum number of Elements in array\n",
    "print(\"Name which is largest:\",largest)\n",
    "print(\"Name which is smallest:\",smallest)\n"
   ]
  },
  {
   "cell_type": "code",
   "execution_count": null,
   "metadata": {},
   "outputs": [],
   "source": [
    "\n",
    "    "
   ]
  },
  {
   "cell_type": "markdown",
   "metadata": {},
   "source": []
  },
  {
   "cell_type": "code",
   "execution_count": null,
   "metadata": {},
   "outputs": [],
   "source": []
  },
  {
   "cell_type": "code",
   "execution_count": null,
   "metadata": {},
   "outputs": [],
   "source": []
  },
  {
   "cell_type": "code",
   "execution_count": null,
   "metadata": {},
   "outputs": [],
   "source": []
  }
 ],
 "metadata": {
  "kernelspec": {
   "display_name": "base",
   "language": "python",
   "name": "python3"
  },
  "language_info": {
   "codemirror_mode": {
    "name": "ipython",
    "version": 3
   },
   "file_extension": ".py",
   "mimetype": "text/x-python",
   "name": "python",
   "nbconvert_exporter": "python",
   "pygments_lexer": "ipython3",
   "version": "3.10.9"
  },
  "orig_nbformat": 4
 },
 "nbformat": 4,
 "nbformat_minor": 2
}
