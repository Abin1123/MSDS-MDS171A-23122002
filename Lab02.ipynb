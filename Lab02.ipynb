{
 "cells": [
  {
   "cell_type": "code",
   "execution_count": 27,
   "metadata": {},
   "outputs": [],
   "source": [
    "array=[]\n",
    "def insert(array):\n",
    "    f=0\n",
    "    name=input(\"Enter the name:\")\n",
    "    \n",
    "    if name=='q':\n",
    "        print(\"Enter a valid name:\")\n",
    "    else:\n",
    "        name=name.title()\n",
    "        tname=name\n",
    "        tname=tname.replace(\" \",\"\")\n",
    "        tf=tname.isalpha()\n",
    "        if name in array:\n",
    "            print(\"The name is already exist\")\n",
    "            f=1\n",
    "        if tf==True and f==0:\n",
    "            array.append(name)\n",
    "            print('Name added successfully')\n",
    "        else:\n",
    "            print(\"Name not saved\")\n",
    "    print(array)        "
   ]
  },
  {
   "cell_type": "code",
   "execution_count": 30,
   "metadata": {},
   "outputs": [
    {
     "name": "stdout",
     "output_type": "stream",
     "text": [
      "Name added successfully\n",
      "['Abin Roy', 'Hi', 'Roy']\n",
      "Name which is largest: Abin Roy\n",
      "Name which is smallest: Hi\n"
     ]
    }
   ],
   "source": [
    "insert(array)\n",
    "largest=max(array,key=len)\n",
    "smallest=min(array,key=len)\n",
    "print(\"Name which is largest:\",largest)\n",
    "print(\"Name which is smallest:\",smallest)\n"
   ]
  },
  {
   "cell_type": "code",
   "execution_count": null,
   "metadata": {},
   "outputs": [],
   "source": [
    "\n",
    "    "
   ]
  },
  {
   "cell_type": "code",
   "execution_count": null,
   "metadata": {},
   "outputs": [],
   "source": []
  },
  {
   "cell_type": "code",
   "execution_count": null,
   "metadata": {},
   "outputs": [],
   "source": []
  },
  {
   "cell_type": "code",
   "execution_count": null,
   "metadata": {},
   "outputs": [],
   "source": []
  },
  {
   "cell_type": "code",
   "execution_count": null,
   "metadata": {},
   "outputs": [],
   "source": []
  }
 ],
 "metadata": {
  "kernelspec": {
   "display_name": "base",
   "language": "python",
   "name": "python3"
  },
  "language_info": {
   "codemirror_mode": {
    "name": "ipython",
    "version": 3
   },
   "file_extension": ".py",
   "mimetype": "text/x-python",
   "name": "python",
   "nbconvert_exporter": "python",
   "pygments_lexer": "ipython3",
   "version": "3.10.9"
  },
  "orig_nbformat": 4
 },
 "nbformat": 4,
 "nbformat_minor": 2
}
